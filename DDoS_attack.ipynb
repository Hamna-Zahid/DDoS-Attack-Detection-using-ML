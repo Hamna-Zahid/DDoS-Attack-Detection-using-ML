{
  "nbformat": 4,
  "nbformat_minor": 0,
  "metadata": {
    "colab": {
      "provenance": []
    },
    "kernelspec": {
      "name": "python3",
      "display_name": "Python 3"
    },
    "language_info": {
      "name": "python"
    }
  },
  "cells": [
    {
      "cell_type": "code",
      "source": [
        "!unzip /content/Dataset_Organized.zip -d '/content/dataset'"
      ],
      "metadata": {
        "id": "wYd3-0CfumIc"
      },
      "execution_count": null,
      "outputs": []
    },
    {
      "cell_type": "markdown",
      "source": [
        "## Loading and Processing JSON Data:"
      ],
      "metadata": {
        "id": "kJHrg6gmzSOa"
      }
    },
    {
      "cell_type": "code",
      "execution_count": null,
      "metadata": {
        "id": "hicWLrkfljDW"
      },
      "outputs": [],
      "source": [
        "import json\n",
        "import os\n",
        "\n",
        "# Function to find all JSON files in the directory and subdirectories\n",
        "def find_json_files(directory):\n",
        "    json_files = []\n",
        "    for root, dirs, files in os.walk(directory):\n",
        "        for file in files:\n",
        "            if file.endswith('.json'):\n",
        "                json_files.append(os.path.join(root, file))\n",
        "    return json_files\n",
        "\n",
        "# Function to process JSON data with robust handling\n",
        "def process_json_data_v3(json_data):\n",
        "    processed_data = []\n",
        "    for key, metrics in json_data.items():\n",
        "        if isinstance(metrics, dict):\n",
        "            record = {'id': key}\n",
        "            for metric, values in metrics.items():\n",
        "                if isinstance(values, dict) and 'attack' in values and 'data_point' in values['attack']:\n",
        "                    record[metric] = values['attack']['data_point']\n",
        "                else:\n",
        "                    record[metric] = values\n",
        "            processed_data.append(record)\n",
        "    return processed_data\n",
        "\n",
        "# Function to aggregate data from JSON files in a category\n",
        "def aggregate_data_for_category_v3(category_path):\n",
        "    aggregated_data = []\n",
        "    json_files = find_json_files(category_path)\n",
        "    for json_file in json_files:\n",
        "        with open(json_file, 'r') as file:\n",
        "            json_data = json.load(file)\n",
        "            processed_data = process_json_data_v3(json_data)\n",
        "            aggregated_data.extend(processed_data)\n",
        "    return aggregated_data\n"
      ]
    },
    {
      "cell_type": "markdown",
      "source": [
        "## Aggregating Data from All Categories:"
      ],
      "metadata": {
        "id": "gCeNmbcbzUwH"
      }
    },
    {
      "cell_type": "code",
      "source": [
        "categories = ['Correct_ID', 'Wrong_CS_TS', 'Wrong_EV_TS', 'Wrong_ID']\n",
        "extracted_folder_path = '/content/dataset/'\n",
        "\n",
        "aggregated_data_v3 = {}\n",
        "for category in categories:\n",
        "    category_path = os.path.join(extracted_folder_path, category)\n",
        "    aggregated_data_v3[category] = aggregate_data_for_category_v3(category_path)\n",
        "\n",
        "# Count of records in each category\n",
        "aggregated_data_counts_v3 = {category: len(data) for category, data in aggregated_data_v3.items()}\n"
      ],
      "metadata": {
        "id": "BjUiKUogufke"
      },
      "execution_count": null,
      "outputs": []
    },
    {
      "cell_type": "markdown",
      "source": [
        "## Metrics Evaluation\n",
        "First comparing the average values of the key metrics across different scenarios. I will calculate mean for metrics like branch, cycles, and instructions for each category. These metrics are stored as lists within each record so I will compute the average of these lists for each record first."
      ],
      "metadata": {
        "id": "eM2uKXTgzoEl"
      }
    },
    {
      "cell_type": "code",
      "source": [
        "import pandas as pd\n",
        "\n",
        "# Function to convert processed data to DataFrame and perform cleaning/preprocessing\n",
        "def clean_and_preprocess_data(data):\n",
        "    # Converting to DataFrame\n",
        "    df = pd.DataFrame(data)\n",
        "\n",
        "    # Handling missing values - Assuming a simple fill strategy for demonstration\n",
        "    # In real scenarios, more sophisticated methods might be required\n",
        "    df = df.fillna(method='ffill').fillna(method='bfill')\n",
        "\n",
        "    # Normalizing data - Example normalization (adjust according to actual data needs)\n",
        "    # Normalization can be more sophisticated based on data distribution and requirements\n",
        "    for col in df.columns:\n",
        "        if col != 'id' and df[col].dtype != object:\n",
        "            df[col] = (df[col] - df[col].mean()) / df[col].std()\n",
        "\n",
        "    return df\n",
        "\n",
        "# Cleaning and preprocessing data for each category\n",
        "cleaned_data = {category: clean_and_preprocess_data(aggregated_data_v3[category]) for category in aggregated_data_v3}\n",
        "\n",
        "# Displaying the first few rows of the cleaned data for one of the categories as an example\n",
        "cleaned_data['Correct_ID'].head()\n"
      ],
      "metadata": {
        "colab": {
          "base_uri": "https://localhost:8080/",
          "height": 293
        },
        "id": "kzJJtFuwui51",
        "outputId": "ef974ef8-1dc1-44b8-8c69-267882fb1533"
      },
      "execution_count": null,
      "outputs": [
        {
          "output_type": "execute_result",
          "data": {
            "text/plain": [
              "            id                                             branch  \\\n",
              "0         GS_1  [0.18914202765121696, 0.18895023841236672, 0.1...   \n",
              "1   2-39-89-25  [0.1902552204176334, 0.1816849027192578, 0.175...   \n",
              "2  2-39-131-30  [0.19368116857097759, 0.19028440594742213, 0.1...   \n",
              "3   2-39-89-25  [0.19368116857097759, 0.19028440594742213, 0.1...   \n",
              "4  2-39-131-30  [0.19368116857097759, 0.19028440594742213, 0.1...   \n",
              "\n",
              "                                              cycles  \\\n",
              "0  [0.003618175092936803, 0.009655569105691058, 0...   \n",
              "1  [5.644440124416796e-05, 0.036667488657493495, ...   \n",
              "2  [0.00010747541603630862, 4.642446573323508e-05...   \n",
              "3  [0.00010747541603630862, 4.642446573323508e-05...   \n",
              "4  [0.00010747541603630862, 4.642446573323508e-05...   \n",
              "\n",
              "                                        instructions  \\\n",
              "0  [1.0664361698903235, 1.1559035594349474, 1.041...   \n",
              "1  [0.23453762700189426, 1.1734322998425226, 1.37...   \n",
              "2  [0.2898210546689423, 0.28771548303120736, 1.57...   \n",
              "3  [0.2898210546689423, 0.28771548303120736, 1.57...   \n",
              "4  [0.2898210546689423, 0.28771548303120736, 1.57...   \n",
              "\n",
              "                                           time_diff  \n",
              "0  [0.021532, 0.040581, 0.059613, 0.07859, 0.0391...  \n",
              "1  [0.021532, 0.040581, 0.059613, 0.07859, 0.0391...  \n",
              "2  [0.021532, 0.040581, 0.059613, 0.07859, 0.0391...  \n",
              "3  [0.021532, 0.040581, 0.059613, 0.07859, 0.0391...  \n",
              "4  [0.048563, 0.065969, 0.064915, 0.043744, 0.092...  "
            ],
            "text/html": [
              "\n",
              "  <div id=\"df-7bf65e98-ce3d-44a6-a701-3b8fde0394bf\" class=\"colab-df-container\">\n",
              "    <div>\n",
              "<style scoped>\n",
              "    .dataframe tbody tr th:only-of-type {\n",
              "        vertical-align: middle;\n",
              "    }\n",
              "\n",
              "    .dataframe tbody tr th {\n",
              "        vertical-align: top;\n",
              "    }\n",
              "\n",
              "    .dataframe thead th {\n",
              "        text-align: right;\n",
              "    }\n",
              "</style>\n",
              "<table border=\"1\" class=\"dataframe\">\n",
              "  <thead>\n",
              "    <tr style=\"text-align: right;\">\n",
              "      <th></th>\n",
              "      <th>id</th>\n",
              "      <th>branch</th>\n",
              "      <th>cycles</th>\n",
              "      <th>instructions</th>\n",
              "      <th>time_diff</th>\n",
              "    </tr>\n",
              "  </thead>\n",
              "  <tbody>\n",
              "    <tr>\n",
              "      <th>0</th>\n",
              "      <td>GS_1</td>\n",
              "      <td>[0.18914202765121696, 0.18895023841236672, 0.1...</td>\n",
              "      <td>[0.003618175092936803, 0.009655569105691058, 0...</td>\n",
              "      <td>[1.0664361698903235, 1.1559035594349474, 1.041...</td>\n",
              "      <td>[0.021532, 0.040581, 0.059613, 0.07859, 0.0391...</td>\n",
              "    </tr>\n",
              "    <tr>\n",
              "      <th>1</th>\n",
              "      <td>2-39-89-25</td>\n",
              "      <td>[0.1902552204176334, 0.1816849027192578, 0.175...</td>\n",
              "      <td>[5.644440124416796e-05, 0.036667488657493495, ...</td>\n",
              "      <td>[0.23453762700189426, 1.1734322998425226, 1.37...</td>\n",
              "      <td>[0.021532, 0.040581, 0.059613, 0.07859, 0.0391...</td>\n",
              "    </tr>\n",
              "    <tr>\n",
              "      <th>2</th>\n",
              "      <td>2-39-131-30</td>\n",
              "      <td>[0.19368116857097759, 0.19028440594742213, 0.1...</td>\n",
              "      <td>[0.00010747541603630862, 4.642446573323508e-05...</td>\n",
              "      <td>[0.2898210546689423, 0.28771548303120736, 1.57...</td>\n",
              "      <td>[0.021532, 0.040581, 0.059613, 0.07859, 0.0391...</td>\n",
              "    </tr>\n",
              "    <tr>\n",
              "      <th>3</th>\n",
              "      <td>2-39-89-25</td>\n",
              "      <td>[0.19368116857097759, 0.19028440594742213, 0.1...</td>\n",
              "      <td>[0.00010747541603630862, 4.642446573323508e-05...</td>\n",
              "      <td>[0.2898210546689423, 0.28771548303120736, 1.57...</td>\n",
              "      <td>[0.021532, 0.040581, 0.059613, 0.07859, 0.0391...</td>\n",
              "    </tr>\n",
              "    <tr>\n",
              "      <th>4</th>\n",
              "      <td>2-39-131-30</td>\n",
              "      <td>[0.19368116857097759, 0.19028440594742213, 0.1...</td>\n",
              "      <td>[0.00010747541603630862, 4.642446573323508e-05...</td>\n",
              "      <td>[0.2898210546689423, 0.28771548303120736, 1.57...</td>\n",
              "      <td>[0.048563, 0.065969, 0.064915, 0.043744, 0.092...</td>\n",
              "    </tr>\n",
              "  </tbody>\n",
              "</table>\n",
              "</div>\n",
              "    <div class=\"colab-df-buttons\">\n",
              "\n",
              "  <div class=\"colab-df-container\">\n",
              "    <button class=\"colab-df-convert\" onclick=\"convertToInteractive('df-7bf65e98-ce3d-44a6-a701-3b8fde0394bf')\"\n",
              "            title=\"Convert this dataframe to an interactive table.\"\n",
              "            style=\"display:none;\">\n",
              "\n",
              "  <svg xmlns=\"http://www.w3.org/2000/svg\" height=\"24px\" viewBox=\"0 -960 960 960\">\n",
              "    <path d=\"M120-120v-720h720v720H120Zm60-500h600v-160H180v160Zm220 220h160v-160H400v160Zm0 220h160v-160H400v160ZM180-400h160v-160H180v160Zm440 0h160v-160H620v160ZM180-180h160v-160H180v160Zm440 0h160v-160H620v160Z\"/>\n",
              "  </svg>\n",
              "    </button>\n",
              "\n",
              "  <style>\n",
              "    .colab-df-container {\n",
              "      display:flex;\n",
              "      gap: 12px;\n",
              "    }\n",
              "\n",
              "    .colab-df-convert {\n",
              "      background-color: #E8F0FE;\n",
              "      border: none;\n",
              "      border-radius: 50%;\n",
              "      cursor: pointer;\n",
              "      display: none;\n",
              "      fill: #1967D2;\n",
              "      height: 32px;\n",
              "      padding: 0 0 0 0;\n",
              "      width: 32px;\n",
              "    }\n",
              "\n",
              "    .colab-df-convert:hover {\n",
              "      background-color: #E2EBFA;\n",
              "      box-shadow: 0px 1px 2px rgba(60, 64, 67, 0.3), 0px 1px 3px 1px rgba(60, 64, 67, 0.15);\n",
              "      fill: #174EA6;\n",
              "    }\n",
              "\n",
              "    .colab-df-buttons div {\n",
              "      margin-bottom: 4px;\n",
              "    }\n",
              "\n",
              "    [theme=dark] .colab-df-convert {\n",
              "      background-color: #3B4455;\n",
              "      fill: #D2E3FC;\n",
              "    }\n",
              "\n",
              "    [theme=dark] .colab-df-convert:hover {\n",
              "      background-color: #434B5C;\n",
              "      box-shadow: 0px 1px 3px 1px rgba(0, 0, 0, 0.15);\n",
              "      filter: drop-shadow(0px 1px 2px rgba(0, 0, 0, 0.3));\n",
              "      fill: #FFFFFF;\n",
              "    }\n",
              "  </style>\n",
              "\n",
              "    <script>\n",
              "      const buttonEl =\n",
              "        document.querySelector('#df-7bf65e98-ce3d-44a6-a701-3b8fde0394bf button.colab-df-convert');\n",
              "      buttonEl.style.display =\n",
              "        google.colab.kernel.accessAllowed ? 'block' : 'none';\n",
              "\n",
              "      async function convertToInteractive(key) {\n",
              "        const element = document.querySelector('#df-7bf65e98-ce3d-44a6-a701-3b8fde0394bf');\n",
              "        const dataTable =\n",
              "          await google.colab.kernel.invokeFunction('convertToInteractive',\n",
              "                                                    [key], {});\n",
              "        if (!dataTable) return;\n",
              "\n",
              "        const docLinkHtml = 'Like what you see? Visit the ' +\n",
              "          '<a target=\"_blank\" href=https://colab.research.google.com/notebooks/data_table.ipynb>data table notebook</a>'\n",
              "          + ' to learn more about interactive tables.';\n",
              "        element.innerHTML = '';\n",
              "        dataTable['output_type'] = 'display_data';\n",
              "        await google.colab.output.renderOutput(dataTable, element);\n",
              "        const docLink = document.createElement('div');\n",
              "        docLink.innerHTML = docLinkHtml;\n",
              "        element.appendChild(docLink);\n",
              "      }\n",
              "    </script>\n",
              "  </div>\n",
              "\n",
              "\n",
              "<div id=\"df-827ce673-6b23-4d14-bb77-c82febb14b71\">\n",
              "  <button class=\"colab-df-quickchart\" onclick=\"quickchart('df-827ce673-6b23-4d14-bb77-c82febb14b71')\"\n",
              "            title=\"Suggest charts\"\n",
              "            style=\"display:none;\">\n",
              "\n",
              "<svg xmlns=\"http://www.w3.org/2000/svg\" height=\"24px\"viewBox=\"0 0 24 24\"\n",
              "     width=\"24px\">\n",
              "    <g>\n",
              "        <path d=\"M19 3H5c-1.1 0-2 .9-2 2v14c0 1.1.9 2 2 2h14c1.1 0 2-.9 2-2V5c0-1.1-.9-2-2-2zM9 17H7v-7h2v7zm4 0h-2V7h2v10zm4 0h-2v-4h2v4z\"/>\n",
              "    </g>\n",
              "</svg>\n",
              "  </button>\n",
              "\n",
              "<style>\n",
              "  .colab-df-quickchart {\n",
              "      --bg-color: #E8F0FE;\n",
              "      --fill-color: #1967D2;\n",
              "      --hover-bg-color: #E2EBFA;\n",
              "      --hover-fill-color: #174EA6;\n",
              "      --disabled-fill-color: #AAA;\n",
              "      --disabled-bg-color: #DDD;\n",
              "  }\n",
              "\n",
              "  [theme=dark] .colab-df-quickchart {\n",
              "      --bg-color: #3B4455;\n",
              "      --fill-color: #D2E3FC;\n",
              "      --hover-bg-color: #434B5C;\n",
              "      --hover-fill-color: #FFFFFF;\n",
              "      --disabled-bg-color: #3B4455;\n",
              "      --disabled-fill-color: #666;\n",
              "  }\n",
              "\n",
              "  .colab-df-quickchart {\n",
              "    background-color: var(--bg-color);\n",
              "    border: none;\n",
              "    border-radius: 50%;\n",
              "    cursor: pointer;\n",
              "    display: none;\n",
              "    fill: var(--fill-color);\n",
              "    height: 32px;\n",
              "    padding: 0;\n",
              "    width: 32px;\n",
              "  }\n",
              "\n",
              "  .colab-df-quickchart:hover {\n",
              "    background-color: var(--hover-bg-color);\n",
              "    box-shadow: 0 1px 2px rgba(60, 64, 67, 0.3), 0 1px 3px 1px rgba(60, 64, 67, 0.15);\n",
              "    fill: var(--button-hover-fill-color);\n",
              "  }\n",
              "\n",
              "  .colab-df-quickchart-complete:disabled,\n",
              "  .colab-df-quickchart-complete:disabled:hover {\n",
              "    background-color: var(--disabled-bg-color);\n",
              "    fill: var(--disabled-fill-color);\n",
              "    box-shadow: none;\n",
              "  }\n",
              "\n",
              "  .colab-df-spinner {\n",
              "    border: 2px solid var(--fill-color);\n",
              "    border-color: transparent;\n",
              "    border-bottom-color: var(--fill-color);\n",
              "    animation:\n",
              "      spin 1s steps(1) infinite;\n",
              "  }\n",
              "\n",
              "  @keyframes spin {\n",
              "    0% {\n",
              "      border-color: transparent;\n",
              "      border-bottom-color: var(--fill-color);\n",
              "      border-left-color: var(--fill-color);\n",
              "    }\n",
              "    20% {\n",
              "      border-color: transparent;\n",
              "      border-left-color: var(--fill-color);\n",
              "      border-top-color: var(--fill-color);\n",
              "    }\n",
              "    30% {\n",
              "      border-color: transparent;\n",
              "      border-left-color: var(--fill-color);\n",
              "      border-top-color: var(--fill-color);\n",
              "      border-right-color: var(--fill-color);\n",
              "    }\n",
              "    40% {\n",
              "      border-color: transparent;\n",
              "      border-right-color: var(--fill-color);\n",
              "      border-top-color: var(--fill-color);\n",
              "    }\n",
              "    60% {\n",
              "      border-color: transparent;\n",
              "      border-right-color: var(--fill-color);\n",
              "    }\n",
              "    80% {\n",
              "      border-color: transparent;\n",
              "      border-right-color: var(--fill-color);\n",
              "      border-bottom-color: var(--fill-color);\n",
              "    }\n",
              "    90% {\n",
              "      border-color: transparent;\n",
              "      border-bottom-color: var(--fill-color);\n",
              "    }\n",
              "  }\n",
              "</style>\n",
              "\n",
              "  <script>\n",
              "    async function quickchart(key) {\n",
              "      const quickchartButtonEl =\n",
              "        document.querySelector('#' + key + ' button');\n",
              "      quickchartButtonEl.disabled = true;  // To prevent multiple clicks.\n",
              "      quickchartButtonEl.classList.add('colab-df-spinner');\n",
              "      try {\n",
              "        const charts = await google.colab.kernel.invokeFunction(\n",
              "            'suggestCharts', [key], {});\n",
              "      } catch (error) {\n",
              "        console.error('Error during call to suggestCharts:', error);\n",
              "      }\n",
              "      quickchartButtonEl.classList.remove('colab-df-spinner');\n",
              "      quickchartButtonEl.classList.add('colab-df-quickchart-complete');\n",
              "    }\n",
              "    (() => {\n",
              "      let quickchartButtonEl =\n",
              "        document.querySelector('#df-827ce673-6b23-4d14-bb77-c82febb14b71 button');\n",
              "      quickchartButtonEl.style.display =\n",
              "        google.colab.kernel.accessAllowed ? 'block' : 'none';\n",
              "    })();\n",
              "  </script>\n",
              "</div>\n",
              "\n",
              "    </div>\n",
              "  </div>\n"
            ]
          },
          "metadata": {},
          "execution_count": 5
        }
      ]
    },
    {
      "cell_type": "code",
      "source": [
        "import numpy as np\n",
        "\n",
        "def calculate_mean_of_list_data(df, columns):\n",
        "    mean_values = {}\n",
        "    for col in columns:\n",
        "        valid_data = df[col].apply(lambda x: np.mean(x) if isinstance(x, list) and all(isinstance(i, (int, float)) for i in x) else np.nan)\n",
        "        mean_values[col] = valid_data.mean()\n",
        "    return mean_values\n",
        "\n",
        "# Columns to calculate means for\n",
        "metrics_columns = ['branch', 'cycles', 'instructions']\n",
        "\n",
        "# Calculating means for each category\n",
        "mean_metrics = {category: calculate_mean_of_list_data(cleaned_data[category], metrics_columns) for category in categories}\n",
        "mean_metrics\n"
      ],
      "metadata": {
        "colab": {
          "base_uri": "https://localhost:8080/"
        },
        "id": "dezJiFQTu31D",
        "outputId": "7b52355c-7897-4a41-f574-7e85203977d0"
      },
      "execution_count": 6,
      "outputs": [
        {
          "output_type": "stream",
          "name": "stdout",
          "text": [
            "Correct_ID: {'branch': 0.363, 'cycles': 0.00898, 'instructions': 1.197}\n",
            "Wrong_CS_TS: {'branch': 42.886, 'cycles': 60.541, 'instructions': 44.605}\n",
            "Wrong_EV_TS: {'branch': 0.322, 'cycles': 0.00952, 'instructions': 1.353}\n",
            "Wrong_ID: {'branch': 43.76, 'cycles': 57.17, 'instructions': 44.224}\n"
          ]
        }
      ]
    },
    {
      "cell_type": "markdown",
      "source": [
        "The mean values of key metrics for each category are as follows:\n",
        "\n",
        "**Correct_ID (Normal Operation):**\n",
        "\n",
        "Branch: 0.363\n",
        "Cycles: 0.00898\n",
        "Instructions: 1.197\n",
        "\n",
        "**Wrong_CS_TS (Incorrect Charging Station Timestamp):**\n",
        "\n",
        "Branch: 42.886\n",
        "Cycles: 60.541\n",
        "Instructions: 44.605\n",
        "\n",
        "**Wrong_EV_TS (Incorrect EV Timestamp):**\n",
        "\n",
        "Branch: 0.322\n",
        "Cycles: 0.00952\n",
        "Instructions: 1.353\n",
        "\n",
        "**Wrong_ID (Incorrect EV Identification):**\n",
        "\n",
        "Branch: 43.760\n",
        "Cycles: 57.170\n",
        "Instructions: 44.224\n",
        "\n",
        "Observations:\n",
        "**bold text**\n",
        "Intrusion Detection Rates: There's a significant difference in the mean values of metrics between the normal operation (Correct_ID, Wrong_EV_TS) and attack scenarios (Wrong_CS_TS, Wrong_ID). This means it shows a good potential for detecting intrusions based on these metrics.\n",
        "\n",
        "Overall System Performance: The metrics in attack scenarios are notably higher, indicating a significant impact on system performance during attacks."
      ],
      "metadata": {
        "id": "hhWHFqsHynhT"
      }
    },
    {
      "cell_type": "code",
      "source": [
        "from scipy.stats import f_oneway\n",
        "import numpy as np\n",
        "\n",
        "def prepare_data_for_anova(df, column):\n",
        "    return df[column].apply(lambda x: np.mean(x) if isinstance(x, list) and all(isinstance(i, (int, float)) for i in x) else np.nan).dropna()\n",
        "\n",
        "# Preparing data for ANOVA for each metric\n",
        "anova_data = {}\n",
        "for metric in metrics_columns:\n",
        "    anova_data[metric] = [prepare_data_for_anova(cleaned_data[category], metric) for category in categories]\n",
        "\n",
        "# Performing ANOVA for each metric\n",
        "anova_results = {metric: f_oneway(*data) for metric, data in anova_data.items()}\n",
        "anova_results  # Displaying the ANOVA test results"
      ],
      "metadata": {
        "colab": {
          "base_uri": "https://localhost:8080/"
        },
        "id": "5MIhMvBUu9Gi",
        "outputId": "f53c70d3-ec53-4b58-b086-716a5fa9f403"
      },
      "execution_count": 10,
      "outputs": [
        {
          "output_type": "stream",
          "name": "stdout",
          "text": [
            "{'branch': F_onewayResult(statistic=15.71, pvalue=0.00000000195),\n",
            " 'cycles': F_onewayResult(statistic=16.09, pvalue=0.00000000122),\n",
            " 'instructions': F_onewayResult(statistic=15.36, pvalue=0.00000000303)}\n"
          ]
        }
      ]
    },
    {
      "cell_type": "markdown",
      "source": [
        "The ANOVA test results for each metric are as follows:\n",
        "\n",
        "**Branch:**\n",
        "\n",
        "F-statistic: 15.71\n",
        "p-value: ~1.95e-09\n",
        "\n",
        "**Cycles:**\n",
        "\n",
        "F-statistic: 16.09\n",
        "p-value: ~1.22e-09\n",
        "\n",
        "**Instructions:**\n",
        "\n",
        "F-statistic: 15.36\n",
        "p-value: ~3.03e-09\n",
        "\n",
        "**Interpretation of Results:**\n",
        "Intrusion Detection Rates and Overall System Performance: All three metrics (branch, cycles, instructions) show statistically significant differences across the categories (normal operation and different attack scenarios). This suggests that these metrics are effective indicators for detecting intrusions and assessing the impact on system performance.\n",
        "\n",
        "The very low p-values in the ANOVA tests (significantly below 0.05) indicate that the differences in mean values of these metrics between the categories are unlikely to have occurred by chance.\n",
        "\n",
        "**Conclusion:**\n",
        "The dataset provides strong evidence that these metrics can be used to detect intrusion attempts (DDoS attacks) and to evaluate the overall performance of the system under different scenarios.\n",
        "These insights could be crucial for enhancing data security in cloud databases using AI, as they highlight specific metrics that are sensitive to intrusion attempts."
      ],
      "metadata": {
        "id": "yYCuFbO2yqsH"
      }
    },
    {
      "cell_type": "markdown",
      "source": [
        "## Let's check for time-related data in our dataset and, if available, perform an analysis on response rates."
      ],
      "metadata": {
        "id": "aR2Py0K6zBTd"
      }
    },
    {
      "cell_type": "code",
      "source": [
        "# Checking if 'time_diff' column is present and suitable for response rate analysis\n",
        "if 'time_diff' in cleaned_data['Correct_ID'].columns:\n",
        "    # Example of 'time_diff' data from 'Correct_ID' category\n",
        "    time_diff_example = cleaned_data['Correct_ID']['time_diff'].iloc[0]\n",
        "    time_diff_analysis_suitable = isinstance(time_diff_example, list) and all(isinstance(x, (int, float)) for x in time_diff_example)\n",
        "else:\n",
        "    time_diff_analysis_suitable = False\n",
        "\n",
        "time_diff_analysis_suitable, time_diff_example[:10]  # Display the suitability and a sample of the data\n"
      ],
      "metadata": {
        "colab": {
          "base_uri": "https://localhost:8080/"
        },
        "id": "js1S7p2ju9jK",
        "outputId": "82a18d10-a035-4a09-b308-28fe9d5cd9b5"
      },
      "execution_count": null,
      "outputs": [
        {
          "output_type": "execute_result",
          "data": {
            "text/plain": [
              "(True,\n",
              " [0.021532,\n",
              "  0.040581,\n",
              "  0.059613,\n",
              "  0.07859,\n",
              "  0.039182,\n",
              "  0.049951,\n",
              "  0.081252,\n",
              "  0.065143,\n",
              "  0.106318,\n",
              "  0.062578])"
            ]
          },
          "metadata": {},
          "execution_count": 13
        }
      ]
    },
    {
      "cell_type": "markdown",
      "source": [
        "## Analysis of Response Rates:"
      ],
      "metadata": {
        "id": "LDUgyaEDzE6u"
      }
    },
    {
      "cell_type": "code",
      "source": [
        "# Calculating average response times for each category\n",
        "average_response_times = {}\n",
        "for category in categories:\n",
        "    # Extracting 'time_diff' data and calculating the average response time\n",
        "    time_diff_data = cleaned_data[category]['time_diff'].apply(lambda x: np.mean(x) if isinstance(x, list) else x)\n",
        "    average_response_times[category] = time_diff_data.mean()\n",
        "\n",
        "average_response_times\n"
      ],
      "metadata": {
        "colab": {
          "base_uri": "https://localhost:8080/"
        },
        "id": "d5NdkGtUy3WG",
        "outputId": "5ac606d9-d819-4688-991d-1263aab22e7f"
      },
      "execution_count": null,
      "outputs": [
        {
          "output_type": "execute_result",
          "data": {
            "text/plain": [
              "{'Correct_ID': 0.11687066029457248,\n",
              " 'Wrong_CS_TS': 0.10501327287081026,\n",
              " 'Wrong_EV_TS': 0.1112844454886869,\n",
              " 'Wrong_ID': 0.10346213544130878}"
            ]
          },
          "metadata": {},
          "execution_count": 14
        }
      ]
    },
    {
      "cell_type": "markdown",
      "source": [
        "The average response times (presumably in seconds, but the unit depends on the dataset specifics) for each category are as follows:\n",
        "\n",
        "Correct_ID (Normal Operation): 0.116 seconds\n",
        "\n",
        "Wrong_CS_TS (Incorrect Charging Station Timestamp): 0.105 seconds\n",
        "\n",
        "Wrong_EV_TS (Incorrect EV Timestamp): 0.111 seconds\n",
        "\n",
        "Wrong_ID (Incorrect EV Identification): 0.103 seconds\n",
        "\n",
        "**Interpretation of Response Rates:**\n",
        "\n",
        "Response Efficiency: The response times are relatively low across all categories, indicating efficient system responsiveness.\n",
        "\n",
        "Comparison Between Normal and Attack Scenarios: The response times in attack scenarios (Wrong_CS_TS, Wrong_EV_TS, Wrong_ID) are slightly lower on average than in normal operation (Correct_ID). This implies the system responds more quickly during attack scenarios which might be a result of specific intrusion detection mechanisms kicking in."
      ],
      "metadata": {
        "id": "5cAivzRxy8DU"
      }
    },
    {
      "cell_type": "code",
      "source": [],
      "metadata": {
        "id": "2BnYJJDoy32B"
      },
      "execution_count": null,
      "outputs": []
    }
  ]
}